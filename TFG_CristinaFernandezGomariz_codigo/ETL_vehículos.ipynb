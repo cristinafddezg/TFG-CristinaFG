{
  "nbformat": 4,
  "nbformat_minor": 0,
  "metadata": {
    "colab": {
      "provenance": []
    },
    "kernelspec": {
      "name": "python3",
      "display_name": "Python 3"
    },
    "language_info": {
      "name": "python"
    }
  },
  "cells": [
    {
      "cell_type": "code",
      "source": [
        "import pandas as pd\n",
        "\n",
        "# Cargar el dataset original\n",
        "df = pd.read_csv('/content/traspdf_hasta_marzo.csv', sep=';', encoding='latin1', low_memory=False)"
      ],
      "metadata": {
        "id": "GQpOdiSCfr_d"
      },
      "execution_count": 14,
      "outputs": []
    },
    {
      "cell_type": "code",
      "source": [
        "# Eliminar duplicados\n",
        "df = df.drop_duplicates()"
      ],
      "metadata": {
        "id": "wpfMLkQCfsBj"
      },
      "execution_count": 15,
      "outputs": []
    },
    {
      "cell_type": "code",
      "source": [
        "# Analizar valores nulos\n",
        "print(\"Valores nulos por columna:\")\n",
        "print(df.isnull().sum())"
      ],
      "metadata": {
        "colab": {
          "base_uri": "https://localhost:8080/"
        },
        "id": "FVv_AyBWfsDn",
        "outputId": "91b2f305-dd49-469c-92d7-198681512e41"
      },
      "execution_count": 16,
      "outputs": [
        {
          "output_type": "stream",
          "name": "stdout",
          "text": [
            "Valores nulos por columna:\n",
            "TREJERCI         0\n",
            "TRFECINS         0\n",
            "TRFE1MAT         0\n",
            "TRFEPRIN    120994\n",
            "TRVTIPVE         0\n",
            "             ...  \n",
            "TRD1002     307736\n",
            "TRD1003     307655\n",
            "TRD1004     307619\n",
            "TRD1005     307502\n",
            "TRD1006     306304\n",
            "Length: 97, dtype: int64\n"
          ]
        }
      ]
    },
    {
      "cell_type": "code",
      "source": [
        "# Codificar variables indicadores del tipo de fallo (TRDxxxx)\n",
        "\n",
        "columnas_trd = [col for col in df.columns if col.startswith('TRD')]\n",
        "\n",
        "# Codificación ordinal\n",
        "def codificar_defecto(valor):\n",
        "    if pd.isna(valor) or valor.strip() == '':\n",
        "        return 0  # (caso en el que no hay defecto presente)\n",
        "    elif 'LEVE' in valor:\n",
        "        return 1\n",
        "    elif 'GRAVE' in valor:\n",
        "        return 2\n",
        "    else:\n",
        "        return 0\n",
        "\n",
        "\n",
        "for col in columnas_trd:\n",
        "    df[col] = df[col].apply(codificar_defecto)"
      ],
      "metadata": {
        "id": "poxvHs9JfsFt"
      },
      "execution_count": 17,
      "outputs": []
    },
    {
      "cell_type": "code",
      "source": [
        "# Tratamiento de variables temporales\n",
        "\n",
        "# Convertir a formato datetime\n",
        "df['TRFECINS'] = pd.to_datetime(df['TRFECINS'], errors='coerce')\n",
        "df['TRFE1MAT'] = pd.to_datetime(df['TRFE1MAT'], errors='coerce')\n",
        "\n",
        "# Ver cuántos valores nulos hay\n",
        "nulos_fecins = df['TRFECINS'].isnull().sum()\n",
        "nulos_fecmat = df['TRFE1MAT'].isnull().sum()\n",
        "\n",
        "print(f'Nulos en TRFECINS: {nulos_fecins}')\n",
        "print(f'Nulos en TRFE1MAT: {nulos_fecmat}')\n",
        "\n",
        "# Si los nulos son muy pocos, eliminamos esas filas justificadamente\n",
        "# Aquí usamos un umbral del 1%\n",
        "umbral = 0.01 * len(df)\n",
        "\n",
        "if nulos_fecins <= umbral:\n",
        "    df = df.dropna(subset=['TRFECINS'])\n",
        "else:\n",
        "    fecha_media = df['TRFECINS'].dropna().median()\n",
        "    df['TRFECINS'] = df['TRFECINS'].fillna(fecha_media)\n",
        "\n",
        "if nulos_fecmat <= umbral:\n",
        "    df = df.dropna(subset=['TRFE1MAT'])\n",
        "else:\n",
        "    fecha_media = df['TRFE1MAT'].dropna().median()\n",
        "    df['TRFE1MAT'] = df['TRFE1MAT'].fillna(fecha_media)\n",
        "\n",
        "# Calcular la antigüedad\n",
        "df['antiguedad'] = (df['TRFECINS'] - df['TRFE1MAT']).dt.days // 365\n",
        "\n",
        "# Si la antigüedad no se pudo calcular, imputamos con la mediana\n",
        "df['antiguedad'] = df['antiguedad'].fillna(df['antiguedad'].median())"
      ],
      "metadata": {
        "colab": {
          "base_uri": "https://localhost:8080/"
        },
        "id": "ppgFg3EIfsHz",
        "outputId": "b2146dce-683e-4e6b-fac4-1e4b5a7d0af2"
      },
      "execution_count": 18,
      "outputs": [
        {
          "output_type": "stream",
          "name": "stdout",
          "text": [
            "Nulos en TRFECINS: 0\n",
            "Nulos en TRFE1MAT: 0\n"
          ]
        }
      ]
    },
    {
      "cell_type": "code",
      "source": [
        "# Tratamiento de variables categóricas\n",
        "\n",
        "df['TRVRESUL'] = df['TRVRESUL'].fillna('DESCONOCIDO')\n",
        "df['TRVTIPVE'] = df['TRVTIPVE'].fillna('DESCONOCIDO')\n",
        "df['TRVPROSE'] = df['TRVPROSE'].fillna('DESCONOCIDO')\n",
        "\n",
        "# Función para codificar TRVRESUL\n",
        "def codificar_resultado(valor):\n",
        "    if isinstance(valor, str):\n",
        "        valor = valor.upper()\n",
        "        if 'FAVORABLE CON DEFECTOS LEVES' in valor:\n",
        "            return 0\n",
        "        elif 'DESFAVORABLE (ALGUN GRAVE)' in valor:\n",
        "            return 1\n",
        "        elif 'NEGATIVA (ALGUN MUY GRAVE)' in valor:\n",
        "            return 2\n",
        "    return 3  # Para desconocidos o valores raros\n",
        "\n",
        "# Aplicar la codificación\n",
        "df['target'] = df['TRVRESUL'].apply(codificar_resultado)\n",
        "\n",
        "print(\"Distribución final de target:\")\n",
        "print(df['target'].value_counts())\n",
        "\n",
        "# Variables dummies\n",
        "df_encoded = pd.get_dummies(df[['TRVPROSE', 'TRVTIPVE']], drop_first=True)"
      ],
      "metadata": {
        "colab": {
          "base_uri": "https://localhost:8080/"
        },
        "id": "kv1KPIvpfsJ4",
        "outputId": "f7c5da45-f8b9-4bb9-e1ca-d35958603d55"
      },
      "execution_count": 19,
      "outputs": [
        {
          "output_type": "stream",
          "name": "stdout",
          "text": [
            "Distribución final de target:\n",
            "target\n",
            "0    186810\n",
            "1    117733\n",
            "2      3255\n",
            "Name: count, dtype: int64\n"
          ]
        }
      ]
    },
    {
      "cell_type": "code",
      "source": [
        "# Creación de una variable de total de fallos por inspección\n",
        "\n",
        "df['total_defectos'] = df[columnas_trd].apply(lambda fila: sum(fila > 0), axis=1)"
      ],
      "metadata": {
        "id": "g4Iri_mJfsL9"
      },
      "execution_count": 20,
      "outputs": []
    },
    {
      "cell_type": "code",
      "source": [
        "# Combinar en el dataset final\n",
        "\n",
        "final_df = pd.concat([\n",
        "    df[['antiguedad', 'total_defectos', 'target']],\n",
        "    df_encoded,\n",
        "    df[columnas_trd]\n",
        "], axis=1)"
      ],
      "metadata": {
        "id": "5aJd6i0efsOT"
      },
      "execution_count": 21,
      "outputs": []
    },
    {
      "cell_type": "code",
      "source": [
        "# Guardar y descargar nuevo dataset\n",
        "final_df.to_csv('/content/dataset_vehiculos_limpio.csv', index=False)\n",
        "\n",
        "from google.colab import files\n",
        "files.download('/content/dataset_vehiculos_limpio.csv')"
      ],
      "metadata": {
        "colab": {
          "base_uri": "https://localhost:8080/",
          "height": 17
        },
        "id": "wJvb_cpgfsQp",
        "outputId": "817fd775-2148-4dd5-a027-3a9a74146ad4"
      },
      "execution_count": 22,
      "outputs": [
        {
          "output_type": "display_data",
          "data": {
            "text/plain": [
              "<IPython.core.display.Javascript object>"
            ],
            "application/javascript": [
              "\n",
              "    async function download(id, filename, size) {\n",
              "      if (!google.colab.kernel.accessAllowed) {\n",
              "        return;\n",
              "      }\n",
              "      const div = document.createElement('div');\n",
              "      const label = document.createElement('label');\n",
              "      label.textContent = `Downloading \"${filename}\": `;\n",
              "      div.appendChild(label);\n",
              "      const progress = document.createElement('progress');\n",
              "      progress.max = size;\n",
              "      div.appendChild(progress);\n",
              "      document.body.appendChild(div);\n",
              "\n",
              "      const buffers = [];\n",
              "      let downloaded = 0;\n",
              "\n",
              "      const channel = await google.colab.kernel.comms.open(id);\n",
              "      // Send a message to notify the kernel that we're ready.\n",
              "      channel.send({})\n",
              "\n",
              "      for await (const message of channel.messages) {\n",
              "        // Send a message to notify the kernel that we're ready.\n",
              "        channel.send({})\n",
              "        if (message.buffers) {\n",
              "          for (const buffer of message.buffers) {\n",
              "            buffers.push(buffer);\n",
              "            downloaded += buffer.byteLength;\n",
              "            progress.value = downloaded;\n",
              "          }\n",
              "        }\n",
              "      }\n",
              "      const blob = new Blob(buffers, {type: 'application/binary'});\n",
              "      const a = document.createElement('a');\n",
              "      a.href = window.URL.createObjectURL(blob);\n",
              "      a.download = filename;\n",
              "      div.appendChild(a);\n",
              "      a.click();\n",
              "      div.remove();\n",
              "    }\n",
              "  "
            ]
          },
          "metadata": {}
        },
        {
          "output_type": "display_data",
          "data": {
            "text/plain": [
              "<IPython.core.display.Javascript object>"
            ],
            "application/javascript": [
              "download(\"download_de2ce3c5-a2d7-4ff6-8beb-7c210558e4c8\", \"dataset_vehiculos_limpio.csv\", 88590585)"
            ]
          },
          "metadata": {}
        }
      ]
    }
  ]
}